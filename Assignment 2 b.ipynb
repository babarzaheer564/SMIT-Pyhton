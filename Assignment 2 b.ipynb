{
 "cells": [
  {
   "cell_type": "code",
   "execution_count": 1,
   "metadata": {},
   "outputs": [
    {
     "name": "stdout",
     "output_type": "stream",
     "text": [
      "Enter your Maths Marks:100\n",
      "Enter your English Marks:80\n",
      "Enter your Urdu Marks:80\n",
      "Enter your Islamiat Marks:60\n",
      "Enter your Social Studies Marks:60\n",
      "Congrats! your grade is A and your percentage is 76.0\n"
     ]
    }
   ],
   "source": [
    "#Q1\n",
    "math = int(input(\"Enter your Maths Marks:\"))\n",
    "eng = int(input(\"Enter your English Marks:\"))\n",
    "urdu = int(input(\"Enter your Urdu Marks:\"))\n",
    "isl = int(input(\"Enter your Islamiat Marks:\"))\n",
    "pss = int(input(\"Enter your Social Studies Marks:\"))\n",
    "\n",
    "total = ((math + eng + urdu + isl + pss)/500)*100\n",
    "\n",
    "if total >= 80:\n",
    "    print(\"Congrats! your grade is A+ and your percentage is\", total)\n",
    "elif total >=70 and total <80:\n",
    "    print(\"Congrats! your grade is A and your percentage is\", total)\n",
    "elif total >=60 and total <70:\n",
    "    print(\"Congrats! your grade is B and your percentage is\", total)\n",
    "elif total >=50 and total <60:\n",
    "    print(\"Congrats! your grade is C and your percentage is\", total)\n",
    "elif total >=40 and total <50:\n",
    "    print(\"Congrats! your grade is D and your percentage is\", total)\n",
    "else:\n",
    "    print(\"Failed! Your percentage is:\", total)"
   ]
  },
  {
   "cell_type": "code",
   "execution_count": 2,
   "metadata": {},
   "outputs": [
    {
     "name": "stdout",
     "output_type": "stream",
     "text": [
      "Length of the list is: 7\n"
     ]
    }
   ],
   "source": [
    "#Q2\n",
    "list = [1, \"babar zaheer uddin\", 9, 5, \"SMIT\", True, 0.9]\n",
    "print(\"Length of the list is:\", len(list))"
   ]
  },
  {
   "cell_type": "code",
   "execution_count": 3,
   "metadata": {},
   "outputs": [
    {
     "name": "stdout",
     "output_type": "stream",
     "text": [
      "Enter Your Number:50\n",
      "Your Number is Even\n"
     ]
    }
   ],
   "source": [
    "#Q3\n",
    "num = int(input(\"Enter Your Number:\"))\n",
    "if num%2==0:\n",
    "    print(\"Your Number is Even\")\n",
    "else:\n",
    "    print(\"Your Number is Odd\")"
   ]
  },
  {
   "cell_type": "code",
   "execution_count": 4,
   "metadata": {},
   "outputs": [
    {
     "name": "stdout",
     "output_type": "stream",
     "text": [
      "Sum of the numeric item in list is: 45\n"
     ]
    }
   ],
   "source": [
    "#Q4\n",
    "num_list = [1, 2, 3, 4, 5, 6, 7, 8, 9]\n",
    "print(\"Sum of the numeric item in list is:\", sum(num_list))"
   ]
  },
  {
   "cell_type": "code",
   "execution_count": 9,
   "metadata": {},
   "outputs": [
    {
     "name": "stdout",
     "output_type": "stream",
     "text": [
      "Largest number in the list is  89\n"
     ]
    }
   ],
   "source": [
    "#Q5\n",
    "largest_num = [1, 1, 2, 3, 5, 8, 13, 21, 34, 55, 89]\n",
    "print(\"Largest number in the list is \", max(largest_num))"
   ]
  },
  {
   "cell_type": "code",
   "execution_count": 12,
   "metadata": {},
   "outputs": [
    {
     "name": "stdout",
     "output_type": "stream",
     "text": [
      "[1]\n",
      "[1, 1]\n",
      "[1, 1, 2]\n",
      "[1, 1, 2, 3]\n"
     ]
    }
   ],
   "source": [
    "#Q6\n",
    "a = [1, 1, 2, 3, 5, 8, 13, 21, 34, 55, 89]\n",
    "empty_list = []\n",
    "for item in a:\n",
    "    if item < 5:\n",
    "        empty_list.append(item)\n",
    "        print(empty_list)"
   ]
  }
 ],
 "metadata": {
  "kernelspec": {
   "display_name": "Python 3",
   "language": "python",
   "name": "python3"
  },
  "language_info": {
   "codemirror_mode": {
    "name": "ipython",
    "version": 3
   },
   "file_extension": ".py",
   "mimetype": "text/x-python",
   "name": "python",
   "nbconvert_exporter": "python",
   "pygments_lexer": "ipython3",
   "version": "3.7.4"
  }
 },
 "nbformat": 4,
 "nbformat_minor": 2
}
