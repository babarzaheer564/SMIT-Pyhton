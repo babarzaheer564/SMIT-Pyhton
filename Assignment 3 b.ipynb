{
 "cells": [
  {
   "cell_type": "code",
   "execution_count": 1,
   "metadata": {},
   "outputs": [
    {
     "name": "stdout",
     "output_type": "stream",
     "text": [
      "Enter your first value:50\n",
      "Enter your operator:/\n",
      "Enter your second value:20\n",
      "Your answer is: 2.5\n"
     ]
    }
   ],
   "source": [
    "#Q1\n",
    "value_1 = int(input(\"Enter your first value:\"))\n",
    "operator = input(\"Enter your operator:\")\n",
    "value_2 = int(input(\"Enter your second value:\"))\n",
    "\n",
    "if operator == '+':\n",
    "    val = value_1 + value_2\n",
    "    print(\"Your answer is:\", val)\n",
    "elif operator == '-':\n",
    "    val = value_1 - value_2\n",
    "    print(\"Your answer is:\", val)\n",
    "elif operator == '*':\n",
    "    val = value_1 * value_2\n",
    "    print(\"Your answer is:\", val)\n",
    "elif operator == '/':\n",
    "    val = value_1 / value_2\n",
    "    print(\"Your answer is:\", val)\n",
    "elif operator == '**':\n",
    "    val = value_1 ** value_2\n",
    "    print(\"Your answer is:\", val)\n",
    "else:\n",
    "    print(\"Error! Check your operator and try again\")"
   ]
  },
  {
   "cell_type": "code",
   "execution_count": 2,
   "metadata": {},
   "outputs": [
    {
     "name": "stdout",
     "output_type": "stream",
     "text": [
      "Enter your numeric value:10\n",
      "Your list does not contain numeric values\n",
      "Your list contains numeric values\n"
     ]
    }
   ],
   "source": [
    "#Q2\n",
    "check_num = [0, 10, \"babar\", 20, 30]\n",
    "val = int(input(\"Enter your numeric value:\"))\n",
    "for num in check_num:\n",
    "    if val == num:\n",
    "        print(\"Your list contains numeric values\")\n",
    "        break\n",
    "    else:\n",
    "        print(\"Your list does not contain numeric values\")"
   ]
  },
  {
   "cell_type": "code",
   "execution_count": 3,
   "metadata": {},
   "outputs": [
    {
     "name": "stdout",
     "output_type": "stream",
     "text": [
      "{'first name': 'babar', 'last name': 'zaheer uddin', 'address': 'malir karachi', 'language': 'english,urdu'}\n"
     ]
    }
   ],
   "source": [
    "#Q3\n",
    "bio_data = {\n",
    "    \"first name\": \"babar\",\n",
    "    \"last name\": \"zaheer uddin\",\n",
    "    \"address\": \"malir karachi\",\n",
    "}\n",
    "bio_data[\"language\"] = 'english,urdu'\n",
    "print(bio_data)"
   ]
  },
  {
   "cell_type": "code",
   "execution_count": 4,
   "metadata": {},
   "outputs": [
    {
     "name": "stdout",
     "output_type": "stream",
     "text": [
      "680\n"
     ]
    }
   ],
   "source": [
    "#Q4\n",
    "numeric_items = {\n",
    "    \"value 1\": 110,\n",
    "    \"value 2\": 230,\n",
    "    \"value 3\": 340,\n",
    "}\n",
    "print(sum(numeric_items.values()))"
   ]
  },
  {
   "cell_type": "code",
   "execution_count": 6,
   "metadata": {},
   "outputs": [
    {
     "name": "stdout",
     "output_type": "stream",
     "text": [
      "key does not exist\n"
     ]
    }
   ],
   "source": [
    "#Q5\n",
    "check_key = {\"a\": 10, \"b\": 20, \"c\": 30}\n",
    "if \"d\" in check_key:\n",
    "    print(\"key exists\")\n",
    "else:\n",
    "    print(\"key does not exist\")"
   ]
  },
  {
   "cell_type": "code",
   "execution_count": null,
   "metadata": {},
   "outputs": [],
   "source": []
  }
 ],
 "metadata": {
  "kernelspec": {
   "display_name": "Python 3",
   "language": "python",
   "name": "python3"
  },
  "language_info": {
   "codemirror_mode": {
    "name": "ipython",
    "version": 3
   },
   "file_extension": ".py",
   "mimetype": "text/x-python",
   "name": "python",
   "nbconvert_exporter": "python",
   "pygments_lexer": "ipython3",
   "version": "3.7.4"
  }
 },
 "nbformat": 4,
 "nbformat_minor": 2
}
